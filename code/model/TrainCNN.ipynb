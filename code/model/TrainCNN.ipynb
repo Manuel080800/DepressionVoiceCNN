{
 "cells": [
  {
   "cell_type": "markdown",
   "source": [
    "## Train the model 1d-CNN"
   ],
   "metadata": {
    "collapsed": false
   }
  },
  {
   "cell_type": "code",
   "execution_count": 1,
   "outputs": [],
   "source": [
    "# Importación de librerias:"
   ],
   "metadata": {
    "collapsed": false
   }
  },
  {
   "cell_type": "code",
   "execution_count": 72,
   "outputs": [],
   "source": [
    "import librosa\n",
    "import numpy as np\n",
    "import pandas as pd\n",
    "import librosa.display\n",
    "import seaborn as sns\n",
    "import tensorflow as tf\n",
    "import keras_tuner as kt\n",
    "import matplotlib.pyplot as plt\n",
    "\n",
    "plt.style.use(\"ggplot\")\n",
    "\n",
    "from copy import copy\n",
    "from keras.layers import Dense\n",
    "from keras.layers import Conv1D\n",
    "from keras.layers import Dropout\n",
    "from keras.layers import Flatten\n",
    "from sklearn import preprocessing\n",
    "from keras_tuner import Objective\n",
    "from keras.models import Sequential\n",
    "from keras.layers import MaxPooling1D\n",
    "from keras.utils import to_categorical\n",
    "from sklearn.metrics import accuracy_score\n",
    "from keras.layers import BatchNormalization\n",
    "from sklearn.metrics import confusion_matrix\n",
    "from tensorflow.keras.optimizers import Adam\n",
    "from keras.metrics import categorical_accuracy\n",
    "from sklearn.metrics import classification_report\n",
    "from sklearn.model_selection import StratifiedShuffleSplit"
   ],
   "metadata": {
    "collapsed": false
   }
  },
  {
   "cell_type": "code",
   "execution_count": 3,
   "outputs": [],
   "source": [
    "# Lectura de los datos:"
   ],
   "metadata": {
    "collapsed": false
   }
  },
  {
   "cell_type": "code",
   "execution_count": 2,
   "outputs": [
    {
     "data": {
      "text/plain": "    ID      name  status                                            path  \\\n0  110  978E8A99       1   ../../data/audio/window/314_21_978e8a99_1.wav   \n1  110  978E8A99       1   ../../data/audio/window/314_21_978e8a99_2.wav   \n2  110  978E8A99       1   ../../data/audio/window/314_21_978e8a99_3.wav   \n3  110  978E8A99       1   ../../data/audio/window/314_21_978e8a99_4.wav   \n4  110  978E8A99       1   ../../data/audio/window/314_21_978e8a99_5.wav   \n5  110  978E8A99       1   ../../data/audio/window/314_21_978e8a99_6.wav   \n6  110  978E8A99       1   ../../data/audio/window/314_21_978e8a99_7.wav   \n7  110  978E8A99       1   ../../data/audio/window/314_21_978e8a99_8.wav   \n8  110  978E8A99       1   ../../data/audio/window/314_21_978e8a99_9.wav   \n9  110  978E8A99       1  ../../data/audio/window/314_21_978e8a99_10.wav   \n\n   index     score  class   type  \n0      1  6.084656      0  train  \n1      2  6.084656      0  train  \n2      3  6.084656      0  train  \n3      4  6.084656      0  train  \n4      5  6.084656      0  train  \n5      6  6.084656      0  train  \n6      7  6.084656      0  train  \n7      8  6.084656      0  train  \n8      9  6.084656      0  train  \n9     10  6.084656      0  train  ",
      "text/html": "<div>\n<style scoped>\n    .dataframe tbody tr th:only-of-type {\n        vertical-align: middle;\n    }\n\n    .dataframe tbody tr th {\n        vertical-align: top;\n    }\n\n    .dataframe thead th {\n        text-align: right;\n    }\n</style>\n<table border=\"1\" class=\"dataframe\">\n  <thead>\n    <tr style=\"text-align: right;\">\n      <th></th>\n      <th>ID</th>\n      <th>name</th>\n      <th>status</th>\n      <th>path</th>\n      <th>index</th>\n      <th>score</th>\n      <th>class</th>\n      <th>type</th>\n    </tr>\n  </thead>\n  <tbody>\n    <tr>\n      <th>0</th>\n      <td>110</td>\n      <td>978E8A99</td>\n      <td>1</td>\n      <td>../../data/audio/window/314_21_978e8a99_1.wav</td>\n      <td>1</td>\n      <td>6.084656</td>\n      <td>0</td>\n      <td>train</td>\n    </tr>\n    <tr>\n      <th>1</th>\n      <td>110</td>\n      <td>978E8A99</td>\n      <td>1</td>\n      <td>../../data/audio/window/314_21_978e8a99_2.wav</td>\n      <td>2</td>\n      <td>6.084656</td>\n      <td>0</td>\n      <td>train</td>\n    </tr>\n    <tr>\n      <th>2</th>\n      <td>110</td>\n      <td>978E8A99</td>\n      <td>1</td>\n      <td>../../data/audio/window/314_21_978e8a99_3.wav</td>\n      <td>3</td>\n      <td>6.084656</td>\n      <td>0</td>\n      <td>train</td>\n    </tr>\n    <tr>\n      <th>3</th>\n      <td>110</td>\n      <td>978E8A99</td>\n      <td>1</td>\n      <td>../../data/audio/window/314_21_978e8a99_4.wav</td>\n      <td>4</td>\n      <td>6.084656</td>\n      <td>0</td>\n      <td>train</td>\n    </tr>\n    <tr>\n      <th>4</th>\n      <td>110</td>\n      <td>978E8A99</td>\n      <td>1</td>\n      <td>../../data/audio/window/314_21_978e8a99_5.wav</td>\n      <td>5</td>\n      <td>6.084656</td>\n      <td>0</td>\n      <td>train</td>\n    </tr>\n    <tr>\n      <th>5</th>\n      <td>110</td>\n      <td>978E8A99</td>\n      <td>1</td>\n      <td>../../data/audio/window/314_21_978e8a99_6.wav</td>\n      <td>6</td>\n      <td>6.084656</td>\n      <td>0</td>\n      <td>train</td>\n    </tr>\n    <tr>\n      <th>6</th>\n      <td>110</td>\n      <td>978E8A99</td>\n      <td>1</td>\n      <td>../../data/audio/window/314_21_978e8a99_7.wav</td>\n      <td>7</td>\n      <td>6.084656</td>\n      <td>0</td>\n      <td>train</td>\n    </tr>\n    <tr>\n      <th>7</th>\n      <td>110</td>\n      <td>978E8A99</td>\n      <td>1</td>\n      <td>../../data/audio/window/314_21_978e8a99_8.wav</td>\n      <td>8</td>\n      <td>6.084656</td>\n      <td>0</td>\n      <td>train</td>\n    </tr>\n    <tr>\n      <th>8</th>\n      <td>110</td>\n      <td>978E8A99</td>\n      <td>1</td>\n      <td>../../data/audio/window/314_21_978e8a99_9.wav</td>\n      <td>9</td>\n      <td>6.084656</td>\n      <td>0</td>\n      <td>train</td>\n    </tr>\n    <tr>\n      <th>9</th>\n      <td>110</td>\n      <td>978E8A99</td>\n      <td>1</td>\n      <td>../../data/audio/window/314_21_978e8a99_10.wav</td>\n      <td>10</td>\n      <td>6.084656</td>\n      <td>0</td>\n      <td>train</td>\n    </tr>\n  </tbody>\n</table>\n</div>"
     },
     "execution_count": 2,
     "metadata": {},
     "output_type": "execute_result"
    }
   ],
   "source": [
    "windowTrainTest = pd.read_csv('../../data/score/windowTrainTest.csv')\n",
    "windowTrainTest.head(10)"
   ],
   "metadata": {
    "collapsed": false
   }
  },
  {
   "cell_type": "code",
   "execution_count": 5,
   "outputs": [],
   "source": [
    "# Generación de las caracteristicas de los audios:"
   ],
   "metadata": {
    "collapsed": false
   }
  },
  {
   "cell_type": "code",
   "execution_count": 3,
   "outputs": [],
   "source": [
    "import sys\n",
    "sys.path.append(\"../audio/\")\n",
    "\n",
    "from feature import mfcc"
   ],
   "metadata": {
    "collapsed": false
   }
  },
  {
   "cell_type": "code",
   "execution_count": 81,
   "outputs": [],
   "source": [
    "ID = windowTrainTest['ID'].unique()"
   ],
   "metadata": {
    "collapsed": false
   }
  },
  {
   "cell_type": "code",
   "execution_count": 114,
   "outputs": [],
   "source": [
    "train = {'id': [], 'name': [], 'mfcc': [], 'class': []}\n",
    "test  = {'id': [], 'name': [], 'mfcc': [], 'class': []}"
   ],
   "metadata": {
    "collapsed": false
   }
  },
  {
   "cell_type": "code",
   "execution_count": 115,
   "outputs": [
    {
     "name": "stdout",
     "output_type": "stream",
     "text": [
      "Generando espectograma del audio 74 de 74\r"
     ]
    }
   ],
   "source": [
    "for i, value in enumerate(ID):\n",
    "    rows = windowTrainTest.loc[windowTrainTest['ID'] == value]\n",
    "\n",
    "    def get_mfcc(path):\n",
    "            feature = mfcc(mode_spicy=False)\n",
    "            signal, sr = feature.load_audio(path)\n",
    "            spectrogram = feature.get_spectogram(signal, sr)\n",
    "            mfcc_audio = feature.get_mfcc(spectrogram, sr, mode_spicy=False)\n",
    "            delta = feature.get_delta_mfcc(mfcc_audio, 1)\n",
    "            delta_delta = feature.get_delta_mfcc(mfcc_audio, 2)\n",
    "            concat = np.concatenate((mfcc_audio, delta, delta_delta), 1)\n",
    "            return feature.normalize_cmvn(concat)\n",
    "\n",
    "    if rows['type'].unique() == ['train']:\n",
    "        train['id'].append(value)\n",
    "        train['name'].append(rows['name'].unique()[0])\n",
    "        train['mfcc'].append([get_mfcc(row['path']) for _, row in rows.iterrows()])\n",
    "        train['class'].append(rows['class'].unique()[0])\n",
    "\n",
    "    else:\n",
    "        test['id'].append(value)\n",
    "        test['name'].append(rows['name'].unique()[0])\n",
    "        test['mfcc'].append([get_mfcc(row['path']) for _, row in rows.iterrows()])\n",
    "        test['class'].append(rows['class'].unique()[0])\n",
    "\n",
    "    print('Generando espectograma del audio ' + str(i + 1) + ' de ' + str(ID.shape[0]), end='\\r')"
   ],
   "metadata": {
    "collapsed": false
   }
  },
  {
   "cell_type": "code",
   "execution_count": 116,
   "outputs": [],
   "source": [
    "# Comprobación de tamaño de ventanas:"
   ],
   "metadata": {
    "collapsed": false
   }
  },
  {
   "cell_type": "code",
   "execution_count": 117,
   "outputs": [
    {
     "data": {
      "text/plain": "['id: 52', 'name: 52', 'mfcc: 52', 'class: 52']"
     },
     "execution_count": 117,
     "metadata": {},
     "output_type": "execute_result"
    }
   ],
   "source": [
    "[str(key) + ': ' + str(len(train[key])) for key in train]"
   ],
   "metadata": {
    "collapsed": false
   }
  },
  {
   "cell_type": "code",
   "execution_count": 164,
   "outputs": [
    {
     "data": {
      "text/plain": "['id: 22', 'name: 22', 'mfcc: 22', 'class: 22']"
     },
     "execution_count": 164,
     "metadata": {},
     "output_type": "execute_result"
    }
   ],
   "source": [
    "[str(key) + ': ' + str(len(test[key])) for key in test]"
   ],
   "metadata": {
    "collapsed": false
   }
  },
  {
   "cell_type": "code",
   "execution_count": 119,
   "outputs": [],
   "source": [
    "# Generación del conjunto de datos (ENTRENAMIENTO/VALIDACIÓN):"
   ],
   "metadata": {
    "collapsed": false
   }
  },
  {
   "cell_type": "code",
   "execution_count": 93,
   "outputs": [],
   "source": [
    "def concat_mfcc(groups):\n",
    "    \"\"\" Método: Concatena todas las ventanas agrupadas en una sola lista. \"\"\"\n",
    "    concat = []\n",
    "    [[[concat.append(mfcc) for mfcc in mfccs] for mfccs in group] for group in groups]\n",
    "    return concat"
   ],
   "metadata": {
    "collapsed": false
   }
  },
  {
   "cell_type": "code",
   "execution_count": 94,
   "outputs": [],
   "source": [
    "def group_mfcc(position, size, total, general):\n",
    "    \"\"\" Método: Agrupa por grupos una lista de ventanas concatenadas. \"\"\"\n",
    "    index_range = np.arange(position, position + (size  * 2) * total, size)\n",
    "    return index_range, np.array([general[index:index_range[i + 1]]\n",
    "                                  for i, index in enumerate(index_range)\n",
    "                                  if index != index_range[-1]])"
   ],
   "metadata": {
    "collapsed": false
   }
  },
  {
   "cell_type": "code",
   "execution_count": 95,
   "outputs": [],
   "source": [
    "def concat_mfcc_by_index(groups, index):\n",
    "    \"\"\" Método:\n",
    "        Concatena todas las ventanas agrupadas en una sola lista de acuerdo a un\n",
    "        rango de indices.\n",
    "    \"\"\"\n",
    "    concat = []\n",
    "    [[concat.append(mfcc) for mfcc in groups[split]] for split in index]\n",
    "    return concat"
   ],
   "metadata": {
    "collapsed": false
   }
  },
  {
   "cell_type": "code",
   "execution_count": 96,
   "outputs": [],
   "source": [
    "def generate_class_by_index(groups, index, size):\n",
    "    \"\"\" Método:\n",
    "        Genera y concatena una lista de clases agrupadas unicas de acuerdo a un\n",
    "        rango de indices.\n",
    "    \"\"\"\n",
    "    concat = []\n",
    "    [concat.extend([groups[i]] * size) for i in index]\n",
    "    return concat"
   ],
   "metadata": {
    "collapsed": false
   }
  },
  {
   "cell_type": "code",
   "execution_count": 120,
   "outputs": [],
   "source": [
    "train_data = {'mfcc': [], 'class': []}\n",
    "valid_data = {'mfcc': [], 'class': []}"
   ],
   "metadata": {
    "collapsed": false
   }
  },
  {
   "cell_type": "code",
   "execution_count": 121,
   "outputs": [],
   "source": [
    "sss = StratifiedShuffleSplit(n_splits=1, test_size=0.19, random_state=8)"
   ],
   "metadata": {
    "collapsed": false
   }
  },
  {
   "cell_type": "code",
   "execution_count": 122,
   "outputs": [],
   "source": [
    "for i, (train_index, test_index) in enumerate(sss.split(train['mfcc'], train['class'])):\n",
    "\n",
    "    train_data['mfcc'] = np.array(concat_mfcc_by_index(np.array(train['mfcc']),train_index))\n",
    "    train_data['class'] = np.array(generate_class_by_index(train['class'], train_index, 40))\n",
    "    valid_data['mfcc'] = np.array(concat_mfcc_by_index(np.array(train['mfcc']),test_index))\n",
    "    valid_data['class'] = np.array(generate_class_by_index(train['class'], test_index, 40))"
   ],
   "metadata": {
    "collapsed": false
   }
  },
  {
   "cell_type": "code",
   "execution_count": 123,
   "outputs": [],
   "source": [
    "# Comprobación del equilibrio de clases:"
   ],
   "metadata": {
    "collapsed": false
   }
  },
  {
   "cell_type": "code",
   "execution_count": 124,
   "outputs": [
    {
     "name": "stdout",
     "output_type": "stream",
     "text": [
      "Class: [840 840]\n"
     ]
    }
   ],
   "source": [
    "print(f'Class: {np.unique(train_data[\"class\"], return_counts=True)[1]}')"
   ],
   "metadata": {
    "collapsed": false
   }
  },
  {
   "cell_type": "code",
   "execution_count": 125,
   "outputs": [
    {
     "name": "stdout",
     "output_type": "stream",
     "text": [
      "Class: [200 200]\n"
     ]
    }
   ],
   "source": [
    "print(f'Class: {np.unique(valid_data[\"class\"], return_counts=True)[1]}')"
   ],
   "metadata": {
    "collapsed": false
   }
  },
  {
   "cell_type": "code",
   "execution_count": 126,
   "outputs": [],
   "source": [
    "# Comprobación de tamaño de conjuntos:"
   ],
   "metadata": {
    "collapsed": false
   }
  },
  {
   "cell_type": "code",
   "execution_count": 127,
   "outputs": [
    {
     "data": {
      "text/plain": "['mfcc: 1680', 'class: 1680']"
     },
     "execution_count": 127,
     "metadata": {},
     "output_type": "execute_result"
    }
   ],
   "source": [
    "[str(key) + ': ' + str(len(train_data[key])) for key in train_data]"
   ],
   "metadata": {
    "collapsed": false
   }
  },
  {
   "cell_type": "code",
   "execution_count": 128,
   "outputs": [
    {
     "data": {
      "text/plain": "['mfcc: 400', 'class: 400']"
     },
     "execution_count": 128,
     "metadata": {},
     "output_type": "execute_result"
    }
   ],
   "source": [
    "[str(key) + ': ' + str(len(valid_data[key])) for key in valid_data]"
   ],
   "metadata": {
    "collapsed": false
   }
  },
  {
   "cell_type": "code",
   "execution_count": 106,
   "outputs": [],
   "source": [
    "# Creación del modelo CNN:"
   ],
   "metadata": {
    "collapsed": false
   }
  },
  {
   "cell_type": "code",
   "execution_count": null,
   "outputs": [],
   "source": [
    "\"\"\"\n",
    "Numerous of filters of convolution of input: 32\n",
    "Numerous of kernel of convolution of input: 4\n",
    "Numerous of stride of convolution of input: 3\n",
    "Numerous of max pool of convolution of input: 1\n",
    "Numerous of filters of convolution of layer 1: 352\n",
    "Numerous of kernel of convolution of layer 1: 1\n",
    "Numerous of stride of convolution of layer 1: 4\n",
    "Numerous of max pool of convolution of layer 1: 2\n",
    "Numerous of filters of convolution of layer 2: 96\n",
    "Numerous of kernel of convolution of layer 2: 2\n",
    "Numerous of stride of convolution of layer 2: 3\n",
    "Numerous of max pool of convolution of layer 2: 8\n",
    "Numerous of unites of layer dense 1: 480\n",
    "Numerous of unites of layer dense 2: 480\n",
    "Numerous of unites of layer dense 3: 480\n",
    "Numerous of unites of layer dense 4: 480\n",
    "Numerous of unites of layer dense 5: 480\n",
    "Value of learning rate optime: 0.001\n",
    "\"\"\""
   ],
   "metadata": {
    "collapsed": false
   }
  },
  {
   "cell_type": "code",
   "execution_count": 305,
   "outputs": [],
   "source": [
    "model = Sequential()\n",
    "model.add(Conv1D(32, kernel_size=4, strides=3, padding=\"same\", input_shape=(13, 393), activation='relu'))\n",
    "model.add(BatchNormalization())\n",
    "model.add(MaxPooling1D(pool_size=1, padding='same'))\n",
    "model.add(Conv1D(352, kernel_size=1, strides=4, padding=\"same\", activation='relu'))\n",
    "model.add(BatchNormalization())\n",
    "model.add(MaxPooling1D(pool_size=2, padding='same'))\n",
    "model.add(Conv1D(96, kernel_size=2, strides=3, padding=\"same\", activation='relu'))\n",
    "model.add(BatchNormalization())\n",
    "model.add(MaxPooling1D(pool_size=8, padding='same'))\n",
    "model.add(Flatten())\n",
    "model.add(Dense(units=480, activation='relu'))\n",
    "model.add(Dropout(0.3))\n",
    "model.add(Dense(units=480, activation='relu'))\n",
    "model.add(Dropout(0.3))\n",
    "model.add(Dense(2, activation='softmax'))\n",
    "model.compile(optimizer=Adam(learning_rate=1e-5), loss='categorical_crossentropy', metrics=[categorical_accuracy])"
   ],
   "metadata": {
    "collapsed": false
   }
  },
  {
   "cell_type": "code",
   "execution_count": 291,
   "outputs": [
    {
     "name": "stdout",
     "output_type": "stream",
     "text": [
      "Model: \"sequential_2\"\n",
      "_________________________________________________________________\n",
      " Layer (type)                Output Shape              Param #   \n",
      "=================================================================\n",
      " conv1d_6 (Conv1D)           (None, 5, 32)             50336     \n",
      "                                                                 \n",
      " batch_normalization_8 (Batc  (None, 5, 32)            128       \n",
      " hNormalization)                                                 \n",
      "                                                                 \n",
      " max_pooling1d_6 (MaxPooling  (None, 5, 32)            0         \n",
      " 1D)                                                             \n",
      "                                                                 \n",
      " conv1d_7 (Conv1D)           (None, 2, 352)            11616     \n",
      "                                                                 \n",
      " batch_normalization_9 (Batc  (None, 2, 352)           1408      \n",
      " hNormalization)                                                 \n",
      "                                                                 \n",
      " max_pooling1d_7 (MaxPooling  (None, 1, 352)           0         \n",
      " 1D)                                                             \n",
      "                                                                 \n",
      " conv1d_8 (Conv1D)           (None, 1, 96)             67680     \n",
      "                                                                 \n",
      " batch_normalization_10 (Bat  (None, 1, 96)            384       \n",
      " chNormalization)                                                \n",
      "                                                                 \n",
      " max_pooling1d_8 (MaxPooling  (None, 1, 96)            0         \n",
      " 1D)                                                             \n",
      "                                                                 \n",
      " flatten_2 (Flatten)         (None, 96)                0         \n",
      "                                                                 \n",
      " dense_6 (Dense)             (None, 480)               46560     \n",
      "                                                                 \n",
      " dropout_2 (Dropout)         (None, 480)               0         \n",
      "                                                                 \n",
      " dense_7 (Dense)             (None, 480)               230880    \n",
      "                                                                 \n",
      " dropout_3 (Dropout)         (None, 480)               0         \n",
      "                                                                 \n",
      " dense_8 (Dense)             (None, 2)                 962       \n",
      "                                                                 \n",
      "=================================================================\n",
      "Total params: 409,954\n",
      "Trainable params: 408,994\n",
      "Non-trainable params: 960\n",
      "_________________________________________________________________\n"
     ]
    }
   ],
   "source": [
    "model.summary()"
   ],
   "metadata": {
    "collapsed": false
   }
  },
  {
   "cell_type": "code",
   "execution_count": 292,
   "outputs": [],
   "source": [
    "# Entrenamiento del modelo CNN:"
   ],
   "metadata": {
    "collapsed": false
   }
  },
  {
   "cell_type": "code",
   "execution_count": 207,
   "outputs": [],
   "source": [
    "def transform_categorical_class(targets, total):\n",
    "    \"\"\" Método:\n",
    "        Transforma las clases en formato categorical para el modelo CNN.\n",
    "    \"\"\"\n",
    "    return np.array(to_categorical(targets, total))"
   ],
   "metadata": {
    "collapsed": false
   }
  },
  {
   "cell_type": "code",
   "execution_count": 304,
   "outputs": [
    {
     "data": {
      "text/plain": "(13, 393)"
     },
     "execution_count": 304,
     "metadata": {},
     "output_type": "execute_result"
    }
   ],
   "source": [
    "epoch = 50\n",
    "batch_size = 40\n",
    "train_data['mfcc'][0].shape"
   ],
   "metadata": {
    "collapsed": false
   }
  },
  {
   "cell_type": "code",
   "execution_count": 294,
   "outputs": [
    {
     "name": "stdout",
     "output_type": "stream",
     "text": [
      "Epoch 1/30\n",
      "105/105 [==============================] - 8s 24ms/step - loss: 0.7092 - categorical_accuracy: 0.5494\n",
      "Epoch 2/30\n",
      "105/105 [==============================] - 3s 25ms/step - loss: 0.6360 - categorical_accuracy: 0.6250\n",
      "Epoch 3/30\n",
      "105/105 [==============================] - 3s 25ms/step - loss: 0.5517 - categorical_accuracy: 0.7167\n",
      "Epoch 4/30\n",
      "105/105 [==============================] - 3s 24ms/step - loss: 0.4597 - categorical_accuracy: 0.7893\n",
      "Epoch 5/30\n",
      "105/105 [==============================] - 3s 25ms/step - loss: 0.3702 - categorical_accuracy: 0.8429\n",
      "Epoch 6/30\n",
      "105/105 [==============================] - 2s 22ms/step - loss: 0.2845 - categorical_accuracy: 0.8869\n",
      "Epoch 7/30\n",
      "105/105 [==============================] - 3s 28ms/step - loss: 0.2317 - categorical_accuracy: 0.9077\n",
      "Epoch 8/30\n",
      "105/105 [==============================] - 2s 24ms/step - loss: 0.1833 - categorical_accuracy: 0.9369\n",
      "Epoch 9/30\n",
      "105/105 [==============================] - 2s 23ms/step - loss: 0.1559 - categorical_accuracy: 0.9518\n",
      "Epoch 10/30\n",
      "105/105 [==============================] - 2s 23ms/step - loss: 0.1196 - categorical_accuracy: 0.9595\n",
      "Epoch 11/30\n",
      "105/105 [==============================] - 2s 24ms/step - loss: 0.0842 - categorical_accuracy: 0.9762\n",
      "Epoch 12/30\n",
      "105/105 [==============================] - 2s 23ms/step - loss: 0.0821 - categorical_accuracy: 0.9667\n",
      "Epoch 13/30\n",
      "105/105 [==============================] - 3s 27ms/step - loss: 0.0762 - categorical_accuracy: 0.9744\n",
      "Epoch 14/30\n",
      "105/105 [==============================] - 4s 39ms/step - loss: 0.0793 - categorical_accuracy: 0.9720\n",
      "Epoch 15/30\n",
      "105/105 [==============================] - 3s 33ms/step - loss: 0.0609 - categorical_accuracy: 0.9780\n",
      "Epoch 16/30\n",
      "105/105 [==============================] - 4s 35ms/step - loss: 0.0524 - categorical_accuracy: 0.9810\n",
      "Epoch 17/30\n",
      "105/105 [==============================] - 3s 31ms/step - loss: 0.0554 - categorical_accuracy: 0.9833\n",
      "Epoch 18/30\n",
      "105/105 [==============================] - 3s 24ms/step - loss: 0.0271 - categorical_accuracy: 0.9917\n",
      "Epoch 19/30\n",
      "105/105 [==============================] - 2s 21ms/step - loss: 0.0533 - categorical_accuracy: 0.9810\n",
      "Epoch 20/30\n",
      "105/105 [==============================] - 2s 22ms/step - loss: 0.0300 - categorical_accuracy: 0.9923\n",
      "Epoch 21/30\n",
      "105/105 [==============================] - 3s 30ms/step - loss: 0.0312 - categorical_accuracy: 0.9893\n",
      "Epoch 22/30\n",
      "105/105 [==============================] - 3s 24ms/step - loss: 0.0367 - categorical_accuracy: 0.9887\n",
      "Epoch 23/30\n",
      "105/105 [==============================] - 3s 26ms/step - loss: 0.0341 - categorical_accuracy: 0.9881\n",
      "Epoch 24/30\n",
      "105/105 [==============================] - 3s 27ms/step - loss: 0.0250 - categorical_accuracy: 0.9911\n",
      "Epoch 25/30\n",
      "105/105 [==============================] - 3s 25ms/step - loss: 0.0397 - categorical_accuracy: 0.9839\n",
      "Epoch 26/30\n",
      "105/105 [==============================] - 3s 26ms/step - loss: 0.0307 - categorical_accuracy: 0.9887\n",
      "Epoch 27/30\n",
      "105/105 [==============================] - 3s 27ms/step - loss: 0.0318 - categorical_accuracy: 0.9893\n",
      "Epoch 28/30\n",
      "105/105 [==============================] - 3s 24ms/step - loss: 0.0281 - categorical_accuracy: 0.9875\n",
      "Epoch 29/30\n",
      "105/105 [==============================] - 3s 30ms/step - loss: 0.0293 - categorical_accuracy: 0.9905\n",
      "Epoch 30/30\n",
      "105/105 [==============================] - 2s 23ms/step - loss: 0.0324 - categorical_accuracy: 0.9869\n"
     ]
    }
   ],
   "source": [
    "history_train = model.fit(train_data['mfcc'], transform_categorical_class(train_data['class'], 2),\n",
    "                          batch_size=batch_size, epochs=epoch, verbose=True)"
   ],
   "metadata": {
    "collapsed": false
   }
  },
  {
   "cell_type": "code",
   "execution_count": 295,
   "outputs": [
    {
     "name": "stdout",
     "output_type": "stream",
     "text": [
      "53/53 [==============================] - 1s 9ms/step\n"
     ]
    }
   ],
   "source": [
    "predict = np.argmax(model.predict(train_data['mfcc']), axis=1)\n",
    "target = np.argmax(transform_categorical_class(train_data['class'], 2), axis=1)"
   ],
   "metadata": {
    "collapsed": false
   }
  },
  {
   "cell_type": "code",
   "execution_count": 296,
   "outputs": [
    {
     "name": "stdout",
     "output_type": "stream",
     "text": [
      "Accuracy:\n",
      "0.9982142857142857\n",
      "\n",
      "Confusion matrix:\n"
     ]
    },
    {
     "data": {
      "text/plain": "<Figure size 640x480 with 2 Axes>",
      "image/png": "[encoded data removed]"
     },
     "metadata": {},
     "output_type": "display_data"
    },
    {
     "name": "stdout",
     "output_type": "stream",
     "text": [
      "Classification report:\n",
      "              precision    recall  f1-score   support\n",
      "\n",
      "           0       1.00      1.00      1.00       837\n",
      "           1       1.00      1.00      1.00       843\n",
      "\n",
      "    accuracy                           1.00      1680\n",
      "   macro avg       1.00      1.00      1.00      1680\n",
      "weighted avg       1.00      1.00      1.00      1680\n",
      "\n",
      "Class train:\n",
      "[0 0 0 ... 1 1 1]\n",
      "\n",
      "Class predict:\n",
      "[0 0 0 ... 1 1 1]\n"
     ]
    }
   ],
   "source": [
    "print('Accuracy:')\n",
    "print(accuracy_score(predict, target))\n",
    "print()\n",
    "print('Confusion matrix:')\n",
    "cm = sns.heatmap(confusion_matrix(predict, target), cmap='Blues', annot=True, fmt='d')\n",
    "cm.set_xlabel('Predicted label')\n",
    "cm.set_ylabel('True label')\n",
    "plt.show()\n",
    "print('Classification report:')\n",
    "print(classification_report(predict, target))\n",
    "print('Class train:')\n",
    "print(predict)\n",
    "print()\n",
    "print('Class predict:')\n",
    "print(target)"
   ],
   "metadata": {
    "collapsed": false
   }
  },
  {
   "cell_type": "code",
   "execution_count": 306,
   "outputs": [],
   "source": [
    "stop_early = tf.keras.callbacks.EarlyStopping(monitor=\"loss\", mode =\"min\", patience=20, restore_best_weights=True)"
   ],
   "metadata": {
    "collapsed": false
   }
  },
  {
   "cell_type": "code",
   "execution_count": 307,
   "outputs": [
    {
     "name": "stdout",
     "output_type": "stream",
     "text": [
      "Epoch 1/50\n",
      "42/42 [==============================] - 8s 58ms/step - loss: 0.7672 - categorical_accuracy: 0.4952 - val_loss: 0.6888 - val_categorical_accuracy: 0.5450\n",
      "Epoch 2/50\n",
      "42/42 [==============================] - 2s 38ms/step - loss: 0.7568 - categorical_accuracy: 0.4970 - val_loss: 0.6886 - val_categorical_accuracy: 0.5250\n",
      "Epoch 3/50\n",
      "42/42 [==============================] - 2s 38ms/step - loss: 0.7218 - categorical_accuracy: 0.5286 - val_loss: 0.6859 - val_categorical_accuracy: 0.5325\n",
      "Epoch 4/50\n",
      "42/42 [==============================] - 2s 40ms/step - loss: 0.7175 - categorical_accuracy: 0.5440 - val_loss: 0.6830 - val_categorical_accuracy: 0.5700\n",
      "Epoch 5/50\n",
      "42/42 [==============================] - 2s 37ms/step - loss: 0.7062 - categorical_accuracy: 0.5613 - val_loss: 0.6797 - val_categorical_accuracy: 0.5875\n",
      "Epoch 6/50\n",
      "42/42 [==============================] - 2s 37ms/step - loss: 0.6914 - categorical_accuracy: 0.5750 - val_loss: 0.6780 - val_categorical_accuracy: 0.6225\n",
      "Epoch 7/50\n",
      "42/42 [==============================] - 2s 37ms/step - loss: 0.6841 - categorical_accuracy: 0.5792 - val_loss: 0.6766 - val_categorical_accuracy: 0.6150\n",
      "Epoch 8/50\n",
      "42/42 [==============================] - 2s 39ms/step - loss: 0.6718 - categorical_accuracy: 0.5732 - val_loss: 0.6756 - val_categorical_accuracy: 0.6100\n",
      "Epoch 9/50\n",
      "42/42 [==============================] - 2s 48ms/step - loss: 0.6675 - categorical_accuracy: 0.5905 - val_loss: 0.6757 - val_categorical_accuracy: 0.5925\n",
      "Epoch 10/50\n",
      "42/42 [==============================] - 2s 40ms/step - loss: 0.6682 - categorical_accuracy: 0.5810 - val_loss: 0.6777 - val_categorical_accuracy: 0.6025\n",
      "Epoch 11/50\n",
      "42/42 [==============================] - 2s 38ms/step - loss: 0.6507 - categorical_accuracy: 0.6167 - val_loss: 0.6799 - val_categorical_accuracy: 0.6075\n",
      "Epoch 12/50\n",
      "42/42 [==============================] - 2s 38ms/step - loss: 0.6479 - categorical_accuracy: 0.6214 - val_loss: 0.6821 - val_categorical_accuracy: 0.5975\n",
      "Epoch 13/50\n",
      "42/42 [==============================] - 2s 37ms/step - loss: 0.6477 - categorical_accuracy: 0.6173 - val_loss: 0.6835 - val_categorical_accuracy: 0.5925\n",
      "Epoch 14/50\n",
      "42/42 [==============================] - 2s 38ms/step - loss: 0.6487 - categorical_accuracy: 0.6226 - val_loss: 0.6817 - val_categorical_accuracy: 0.6125\n",
      "Epoch 15/50\n",
      "42/42 [==============================] - 2s 38ms/step - loss: 0.6335 - categorical_accuracy: 0.6369 - val_loss: 0.6838 - val_categorical_accuracy: 0.5900\n",
      "Epoch 16/50\n",
      "42/42 [==============================] - 2s 39ms/step - loss: 0.6278 - categorical_accuracy: 0.6405 - val_loss: 0.6846 - val_categorical_accuracy: 0.5900\n",
      "Epoch 17/50\n",
      "42/42 [==============================] - 2s 37ms/step - loss: 0.6085 - categorical_accuracy: 0.6673 - val_loss: 0.6862 - val_categorical_accuracy: 0.5825\n",
      "Epoch 18/50\n",
      "42/42 [==============================] - 2s 39ms/step - loss: 0.5966 - categorical_accuracy: 0.6726 - val_loss: 0.6902 - val_categorical_accuracy: 0.5725\n",
      "Epoch 19/50\n",
      "42/42 [==============================] - 2s 37ms/step - loss: 0.5922 - categorical_accuracy: 0.6810 - val_loss: 0.6907 - val_categorical_accuracy: 0.5775\n",
      "Epoch 20/50\n",
      "42/42 [==============================] - 2s 39ms/step - loss: 0.5928 - categorical_accuracy: 0.6833 - val_loss: 0.6952 - val_categorical_accuracy: 0.5675\n",
      "Epoch 21/50\n",
      "42/42 [==============================] - 2s 39ms/step - loss: 0.5875 - categorical_accuracy: 0.6940 - val_loss: 0.6974 - val_categorical_accuracy: 0.5600\n",
      "Epoch 22/50\n",
      "42/42 [==============================] - 2s 37ms/step - loss: 0.5832 - categorical_accuracy: 0.6887 - val_loss: 0.7000 - val_categorical_accuracy: 0.5475\n",
      "Epoch 23/50\n",
      "42/42 [==============================] - 2s 40ms/step - loss: 0.5754 - categorical_accuracy: 0.7071 - val_loss: 0.7010 - val_categorical_accuracy: 0.5450\n",
      "Epoch 24/50\n",
      "42/42 [==============================] - 2s 38ms/step - loss: 0.5670 - categorical_accuracy: 0.7173 - val_loss: 0.7051 - val_categorical_accuracy: 0.5525\n",
      "Epoch 25/50\n",
      "42/42 [==============================] - 2s 37ms/step - loss: 0.5637 - categorical_accuracy: 0.7244 - val_loss: 0.7091 - val_categorical_accuracy: 0.5475\n",
      "Epoch 26/50\n",
      "42/42 [==============================] - 2s 38ms/step - loss: 0.5566 - categorical_accuracy: 0.7298 - val_loss: 0.7141 - val_categorical_accuracy: 0.5400\n",
      "Epoch 27/50\n",
      "42/42 [==============================] - 2s 37ms/step - loss: 0.5424 - categorical_accuracy: 0.7333 - val_loss: 0.7136 - val_categorical_accuracy: 0.5475\n",
      "Epoch 28/50\n",
      "42/42 [==============================] - 2s 50ms/step - loss: 0.5337 - categorical_accuracy: 0.7518 - val_loss: 0.7181 - val_categorical_accuracy: 0.5525\n",
      "Epoch 29/50\n",
      "42/42 [==============================] - 2s 38ms/step - loss: 0.5349 - categorical_accuracy: 0.7548 - val_loss: 0.7240 - val_categorical_accuracy: 0.5500\n",
      "Epoch 30/50\n",
      "42/42 [==============================] - 2s 38ms/step - loss: 0.5132 - categorical_accuracy: 0.7744 - val_loss: 0.7266 - val_categorical_accuracy: 0.5500\n",
      "Epoch 31/50\n",
      "42/42 [==============================] - 2s 37ms/step - loss: 0.5115 - categorical_accuracy: 0.7673 - val_loss: 0.7321 - val_categorical_accuracy: 0.5600\n",
      "Epoch 32/50\n",
      "42/42 [==============================] - 2s 41ms/step - loss: 0.4998 - categorical_accuracy: 0.7673 - val_loss: 0.7355 - val_categorical_accuracy: 0.5575\n",
      "Epoch 33/50\n",
      "42/42 [==============================] - 2s 37ms/step - loss: 0.4910 - categorical_accuracy: 0.7821 - val_loss: 0.7394 - val_categorical_accuracy: 0.5400\n",
      "Epoch 34/50\n",
      "42/42 [==============================] - 2s 37ms/step - loss: 0.4761 - categorical_accuracy: 0.8131 - val_loss: 0.7420 - val_categorical_accuracy: 0.5575\n",
      "Epoch 35/50\n",
      "42/42 [==============================] - 2s 39ms/step - loss: 0.4752 - categorical_accuracy: 0.8006 - val_loss: 0.7468 - val_categorical_accuracy: 0.5450\n",
      "Epoch 36/50\n",
      "42/42 [==============================] - 2s 37ms/step - loss: 0.4767 - categorical_accuracy: 0.7964 - val_loss: 0.7537 - val_categorical_accuracy: 0.5450\n",
      "Epoch 37/50\n",
      "42/42 [==============================] - 2s 37ms/step - loss: 0.4584 - categorical_accuracy: 0.8054 - val_loss: 0.7619 - val_categorical_accuracy: 0.5525\n",
      "Epoch 38/50\n",
      "42/42 [==============================] - 2s 41ms/step - loss: 0.4480 - categorical_accuracy: 0.8119 - val_loss: 0.7648 - val_categorical_accuracy: 0.5400\n",
      "Epoch 39/50\n",
      "42/42 [==============================] - 2s 38ms/step - loss: 0.4471 - categorical_accuracy: 0.8071 - val_loss: 0.7729 - val_categorical_accuracy: 0.5300\n",
      "Epoch 40/50\n",
      "42/42 [==============================] - 2s 37ms/step - loss: 0.4355 - categorical_accuracy: 0.8262 - val_loss: 0.7788 - val_categorical_accuracy: 0.5275\n",
      "Epoch 41/50\n",
      "42/42 [==============================] - 2s 37ms/step - loss: 0.4309 - categorical_accuracy: 0.8238 - val_loss: 0.7872 - val_categorical_accuracy: 0.5225\n",
      "Epoch 42/50\n",
      "42/42 [==============================] - 2s 38ms/step - loss: 0.4246 - categorical_accuracy: 0.8244 - val_loss: 0.7915 - val_categorical_accuracy: 0.5350\n",
      "Epoch 43/50\n",
      "42/42 [==============================] - 2s 38ms/step - loss: 0.4155 - categorical_accuracy: 0.8375 - val_loss: 0.8017 - val_categorical_accuracy: 0.5250\n",
      "Epoch 44/50\n",
      "42/42 [==============================] - 2s 37ms/step - loss: 0.4013 - categorical_accuracy: 0.8351 - val_loss: 0.8118 - val_categorical_accuracy: 0.5250\n",
      "Epoch 45/50\n",
      "42/42 [==============================] - 2s 38ms/step - loss: 0.3906 - categorical_accuracy: 0.8387 - val_loss: 0.8190 - val_categorical_accuracy: 0.5225\n",
      "Epoch 46/50\n",
      "42/42 [==============================] - 2s 37ms/step - loss: 0.3840 - categorical_accuracy: 0.8560 - val_loss: 0.8226 - val_categorical_accuracy: 0.5075\n",
      "Epoch 47/50\n",
      "42/42 [==============================] - 2s 38ms/step - loss: 0.3672 - categorical_accuracy: 0.8595 - val_loss: 0.8321 - val_categorical_accuracy: 0.5000\n",
      "Epoch 48/50\n",
      "42/42 [==============================] - 2s 53ms/step - loss: 0.3741 - categorical_accuracy: 0.8637 - val_loss: 0.8390 - val_categorical_accuracy: 0.5225\n",
      "Epoch 49/50\n",
      "42/42 [==============================] - 2s 38ms/step - loss: 0.3565 - categorical_accuracy: 0.8708 - val_loss: 0.8501 - val_categorical_accuracy: 0.5200\n",
      "Epoch 50/50\n",
      "42/42 [==============================] - 2s 36ms/step - loss: 0.3488 - categorical_accuracy: 0.8786 - val_loss: 0.8560 - val_categorical_accuracy: 0.5050\n"
     ]
    }
   ],
   "source": [
    "history_valid = model.fit(train_data['mfcc'], transform_categorical_class(train_data['class'], 2),\n",
    "                          validation_data=(valid_data['mfcc'], transform_categorical_class(valid_data['class'],2)),\n",
    "                          batch_size=batch_size, epochs=epoch, callbacks=stop_early, verbose=True, shuffle=True)"
   ],
   "metadata": {
    "collapsed": false
   }
  },
  {
   "cell_type": "code",
   "execution_count": 308,
   "outputs": [
    {
     "name": "stdout",
     "output_type": "stream",
     "text": [
      "13/13 [==============================] - 1s 12ms/step\n"
     ]
    }
   ],
   "source": [
    "predict = np.argmax(model.predict(valid_data['mfcc']), axis=1)\n",
    "target = np.argmax(transform_categorical_class(valid_data['class'], 2), axis=1)"
   ],
   "metadata": {
    "collapsed": false
   }
  },
  {
   "cell_type": "code",
   "execution_count": 309,
   "outputs": [
    {
     "name": "stdout",
     "output_type": "stream",
     "text": [
      "Accuracy:\n",
      "0.505\n",
      "\n",
      "Confusion matrix:\n"
     ]
    },
    {
     "data": {
      "text/plain": "<Figure size 640x480 with 2 Axes>",
      "image/png": "[encoded data removed]"
     },
     "metadata": {},
     "output_type": "display_data"
    },
    {
     "name": "stdout",
     "output_type": "stream",
     "text": [
      "Classification report:\n",
      "              precision    recall  f1-score   support\n",
      "\n",
      "           0       0.45      0.51      0.47       176\n",
      "           1       0.56      0.50      0.53       224\n",
      "\n",
      "    accuracy                           0.51       400\n",
      "   macro avg       0.51      0.51      0.50       400\n",
      "weighted avg       0.51      0.51      0.51       400\n",
      "\n",
      "Class predict:\n",
      "[1 1 1 0 0 0 0 0 1 0 1 0 0 1 0 0 1 0 0 0 0 1 0 0 0 0 1 0 1 0 0 1 1 0 0 0 1\n",
      " 0 0 0 0 0 0 1 1 1 0 0 0 1 0 0 1 0 1 0 1 1 0 1 1 1 1 0 0 1 1 0 0 0 0 0 1 0\n",
      " 1 1 0 1 1 0 1 1 1 1 1 1 0 0 0 1 0 1 1 1 1 1 1 1 0 0 0 1 1 0 1 0 1 0 0 1 1\n",
      " 1 1 0 1 1 0 1 0 1 1 0 1 0 1 1 0 0 1 1 1 1 1 1 0 0 1 0 0 1 1 1 1 0 1 0 1 0\n",
      " 0 1 0 0 1 1 0 1 1 0 0 1 0 1 0 1 1 1 0 1 1 1 0 0 1 0 1 0 1 1 1 1 1 1 0 0 0\n",
      " 1 1 1 0 1 1 0 1 1 1 1 1 0 0 0 0 0 1 1 1 0 0 0 0 1 1 0 1 0 0 1 0 1 1 0 1 1\n",
      " 1 0 0 0 0 1 0 1 1 0 1 0 0 1 1 1 1 1 1 0 1 0 1 1 1 1 1 1 1 1 1 1 1 1 1 1 1\n",
      " 1 1 1 0 1 1 1 1 1 1 1 1 1 1 1 1 1 1 1 1 1 0 0 1 1 1 1 1 0 0 1 1 0 1 1 0 1\n",
      " 1 1 1 0 0 0 0 1 1 0 0 0 1 0 1 1 0 1 1 1 1 0 0 1 1 1 0 0 0 0 1 1 1 1 1 1 0\n",
      " 1 1 1 1 0 1 1 1 0 0 1 1 1 0 1 1 1 0 0 1 1 1 1 1 1 0 1 1 1 0 0 0 0 0 1 1 0\n",
      " 1 0 0 0 0 0 0 1 0 1 0 0 1 0 0 0 0 0 0 0 0 0 0 0 1 0 0 0 0 0]\n",
      "\n",
      "Class true:\n",
      "[1 1 1 1 1 1 1 1 1 1 1 1 1 1 1 1 1 1 1 1 1 1 1 1 1 1 1 1 1 1 1 1 1 1 1 1 1\n",
      " 1 1 1 1 1 1 1 1 1 1 1 1 1 1 1 1 1 1 1 1 1 1 1 1 1 1 1 1 1 1 1 1 1 1 1 1 1\n",
      " 1 1 1 1 1 1 0 0 0 0 0 0 0 0 0 0 0 0 0 0 0 0 0 0 0 0 0 0 0 0 0 0 0 0 0 0 0\n",
      " 0 0 0 0 0 0 0 0 0 0 0 0 0 0 0 0 0 0 0 0 0 0 0 0 0 0 0 0 0 0 0 0 0 0 0 0 0\n",
      " 0 0 0 0 0 0 0 0 0 0 0 0 0 0 0 0 0 0 0 0 0 0 0 0 0 0 0 0 0 0 0 0 0 0 0 0 0\n",
      " 0 0 0 0 0 0 0 0 0 0 0 0 0 0 0 1 1 1 1 1 1 1 1 1 1 1 1 1 1 1 1 1 1 1 1 1 1\n",
      " 1 1 1 1 1 1 1 1 1 1 1 1 1 1 1 1 1 1 1 1 1 1 1 1 1 1 1 1 1 1 1 1 1 1 1 1 1\n",
      " 1 1 1 1 1 1 1 1 1 1 1 1 1 1 1 1 1 1 1 1 1 1 1 1 1 1 1 1 1 1 1 1 1 1 1 1 1\n",
      " 1 1 1 1 1 1 1 1 1 1 1 1 1 1 1 1 1 1 1 1 1 1 1 1 0 0 0 0 0 0 0 0 0 0 0 0 0\n",
      " 0 0 0 0 0 0 0 0 0 0 0 0 0 0 0 0 0 0 0 0 0 0 0 0 0 0 0 0 0 0 0 0 0 0 0 0 0\n",
      " 0 0 0 0 0 0 0 0 0 0 0 0 0 0 0 0 0 0 0 0 0 0 0 0 0 0 0 0 0 0]\n"
     ]
    }
   ],
   "source": [
    "print('Accuracy:')\n",
    "print(accuracy_score(predict, target))\n",
    "print()\n",
    "print('Confusion matrix:')\n",
    "cm = sns.heatmap(confusion_matrix(predict, target), cmap='Blues', annot=True, fmt='d')\n",
    "cm.set_xlabel('Predicted label')\n",
    "cm.set_ylabel('True label')\n",
    "plt.show()\n",
    "print('Classification report:')\n",
    "print(classification_report(predict, target))\n",
    "print('Class predict:')\n",
    "print(predict)\n",
    "print()\n",
    "print('Class true:')\n",
    "print(target)"
   ],
   "metadata": {
    "collapsed": false
   }
  },
  {
   "cell_type": "code",
   "execution_count": 215,
   "outputs": [],
   "source": [
    "# Análisis y visualización del entrenamiento:"
   ],
   "metadata": {
    "collapsed": false
   }
  },
  {
   "cell_type": "code",
   "execution_count": 269,
   "outputs": [
    {
     "data": {
      "text/plain": "<Figure size 640x480 with 1 Axes>",
      "image/png": "[encoded data removed]"
     },
     "metadata": {},
     "output_type": "display_data"
    }
   ],
   "source": [
    "plt.figure()\n",
    "plt.plot(np.arange(0, epoch), history_train.history[\"loss\"], label=\"train_loss\")\n",
    "plt.plot(np.arange(0, epoch), history_train.history[\"categorical_accuracy\"], label=\"train_acc\")\n",
    "plt.title(\"Training Loss and Accuracy\")\n",
    "plt.xlabel(\"Epoch #\")\n",
    "plt.ylabel(\"Loss/Accuracy\")\n",
    "plt.legend()\n",
    "plt.show()\n",
    "plt.clf()\n",
    "plt.close()"
   ],
   "metadata": {
    "collapsed": false
   }
  },
  {
   "cell_type": "code",
   "execution_count": 310,
   "outputs": [
    {
     "data": {
      "text/plain": "<Figure size 640x480 with 1 Axes>",
      "image/png": "[encoded data removed]"
     },
     "metadata": {},
     "output_type": "display_data"
    }
   ],
   "source": [
    "plt.figure()\n",
    "plt.plot(np.arange(0, epoch), history_valid.history[\"loss\"], label=\"train_loss\")\n",
    "plt.plot(np.arange(0, epoch), history_valid.history[\"val_loss\"], label=\"val_loss\")\n",
    "plt.plot(np.arange(0, epoch), history_valid.history[\"categorical_accuracy\"], label=\"train_acc\")\n",
    "plt.plot(np.arange(0, epoch), history_valid.history[\"val_categorical_accuracy\"], label=\"val_acc\")\n",
    "plt.title(\"Training Loss and Accuracy\")\n",
    "plt.xlabel(\"Epoch #\")\n",
    "plt.ylabel(\"Loss/Accuracy\")\n",
    "plt.legend()\n",
    "plt.show()\n",
    "plt.clf()\n",
    "plt.close()"
   ],
   "metadata": {
    "collapsed": false
   }
  },
  {
   "cell_type": "code",
   "execution_count": 218,
   "outputs": [],
   "source": [
    "# Evaluación final del modelo CNN:"
   ],
   "metadata": {
    "collapsed": false
   }
  },
  {
   "cell_type": "code",
   "execution_count": 278,
   "outputs": [],
   "source": [
    "test_data = {'mfcc': [], 'class': []}"
   ],
   "metadata": {
    "collapsed": false
   }
  },
  {
   "cell_type": "code",
   "execution_count": 279,
   "outputs": [],
   "source": [
    "test_data['mfcc'] = np.array(concat_mfcc([test['mfcc']]))\n",
    "test_data['class'] = np.array(generate_class_by_index(test['class'], range(len(test['class'])), 40))"
   ],
   "metadata": {
    "collapsed": false
   }
  },
  {
   "cell_type": "code",
   "execution_count": 221,
   "outputs": [
    {
     "data": {
      "text/plain": "['mfcc: 880', 'class: 880']"
     },
     "execution_count": 221,
     "metadata": {},
     "output_type": "execute_result"
    }
   ],
   "source": [
    "[str(key) + ': ' + str(len(test_data[key])) for key in test_data]"
   ],
   "metadata": {
    "collapsed": false
   }
  },
  {
   "cell_type": "code",
   "execution_count": 311,
   "outputs": [
    {
     "name": "stdout",
     "output_type": "stream",
     "text": [
      "28/28 [==============================] - 0s 10ms/step\n"
     ]
    }
   ],
   "source": [
    "predict = np.argmax(model.predict(test_data['mfcc']), axis=1)\n",
    "target = np.argmax(transform_categorical_class(test_data['class'], 2), axis=1)"
   ],
   "metadata": {
    "collapsed": false
   }
  },
  {
   "cell_type": "code",
   "execution_count": 312,
   "outputs": [
    {
     "name": "stdout",
     "output_type": "stream",
     "text": [
      "Accuracy:\n",
      "0.553409090909091\n",
      "\n",
      "Confusion matrix:\n"
     ]
    },
    {
     "data": {
      "text/plain": "<Figure size 640x480 with 2 Axes>",
      "image/png": "[encoded data removed]"
     },
     "metadata": {},
     "output_type": "display_data"
    },
    {
     "name": "stdout",
     "output_type": "stream",
     "text": [
      "Classification report:\n",
      "              precision    recall  f1-score   support\n",
      "\n",
      "           0       0.54      0.55      0.55       429\n",
      "           1       0.57      0.55      0.56       451\n",
      "\n",
      "    accuracy                           0.55       880\n",
      "   macro avg       0.55      0.55      0.55       880\n",
      "weighted avg       0.55      0.55      0.55       880\n",
      "\n",
      "Class predict:\n",
      "[1 1 1 0 0 0 1 0 1 0 1 1 1 1 1 1 0 0 1 0 1 1 1 1 1 1 1 1 1 1 0 1 1 0 1 0 0\n",
      " 1 1 0 0 1 1 0 1 0 0 0 0 1 0 1 1 1 0 1 0 0 1 0 1 1 0 0 1 1 0 1 1 1 0 0 1 0\n",
      " 1 0 0 0 0 1 1 0 0 1 1 1 0 1 1 0 0 0 0 1 0 1 1 0 1 1 0 0 1 0 0 0 1 0 0 0 0\n",
      " 0 0 1 0 0 0 1 0 1 1 1 0 1 1 1 1 0 1 0 1 1 1 0 1 1 0 1 0 0 0 1 1 1 1 1 0 1\n",
      " 0 1 1 0 0 1 1 0 1 0 0 1 1 1 1 1 0 1 0 1 0 1 1 1 1 0 1 1 1 1 1 1 1 0 1 1 0\n",
      " 1 1 0 1 1 1 1 1 1 1 1 1 1 1 1 0 0 1 0 0 1 0 0 0 0 1 0 0 1 0 0 0 0 0 1 0 1\n",
      " 0 1 0 1 0 0 0 0 0 0 1 0 1 0 0 0 0 0 0 0 0 1 0 0 0 0 1 0 1 0 0 0 0 0 0 0 0\n",
      " 0 0 0 0 1 0 0 0 0 0 1 0 0 0 0 0 0 0 0 0 0 1 0 0 1 0 1 1 0 0 1 1 0 0 1 0 1\n",
      " 1 0 0 0 1 0 0 0 0 0 0 0 0 1 0 1 0 0 1 1 1 0 0 0 1 1 1 0 1 0 0 0 1 0 0 0 0\n",
      " 0 0 1 1 0 1 0 0 0 1 1 1 1 0 0 0 0 1 1 1 0 1 0 0 0 1 0 1 0 0 0 1 0 1 0 1 0\n",
      " 0 1 0 1 1 1 1 1 0 0 1 0 0 1 0 0 1 1 0 0 1 0 1 1 1 1 0 0 0 1 0 1 1 0 1 0 1\n",
      " 0 1 0 1 0 0 0 1 0 0 1 0 1 0 0 1 0 0 0 1 0 0 0 0 0 0 0 1 0 1 1 1 0 1 0 1 1\n",
      " 0 0 1 1 0 1 1 0 0 1 0 1 1 0 0 1 1 0 0 1 1 1 0 0 0 0 0 0 0 1 0 1 1 0 1 1 1\n",
      " 1 1 1 1 1 1 1 1 1 1 1 1 1 1 1 1 1 1 0 1 1 1 1 1 1 1 1 1 1 1 1 1 1 1 1 1 1\n",
      " 1 0 0 1 0 1 0 1 0 0 1 0 0 1 0 1 0 0 0 1 0 1 0 0 0 1 0 1 1 1 1 0 0 1 0 1 1\n",
      " 0 0 0 0 0 1 1 0 1 0 0 1 0 0 1 1 1 1 0 1 1 1 0 0 0 0 1 1 0 1 1 0 0 1 1 1 1\n",
      " 0 1 1 0 1 0 1 0 1 0 0 0 0 0 1 0 0 0 1 0 1 0 0 0 0 0 1 0 0 0 1 1 0 0 1 0 0\n",
      " 0 0 0 0 0 0 0 0 0 1 0 1 1 0 1 1 1 1 1 1 0 0 1 1 1 1 0 0 0 0 1 1 0 1 1 1 1\n",
      " 1 1 1 1 1 1 1 0 0 1 1 1 1 0 1 0 1 1 0 0 0 1 1 0 0 1 0 0 0 0 0 1 1 1 1 1 0\n",
      " 0 1 0 1 0 0 0 0 1 0 1 1 0 1 1 1 1 0 1 0 1 0 1 1 1 0 1 1 1 1 1 1 0 1 1 1 0\n",
      " 1 1 1 1 1 0 1 0 1 1 0 1 1 1 1 1 1 1 1 0 0 0 1 0 1 1 0 1 1 1 1 1 1 0 1 0 1\n",
      " 1 1 1 0 0 1 1 0 1 0 1 1 1 1 1 1 1 0 0 0 1 1 1 1 1 0 0 1 0 0 0 1 0 1 0 0 1\n",
      " 1 0 1 1 1 1 1 1 1 0 0 0 0 0 1 1 1 0 0 0 0 0 0 0 1 0 1 1 0 0 1 1 0 1 0 0 1\n",
      " 1 1 0 0 0 0 0 1 1 0 1 0 1 1 0 1 0 0 1 1 0 0 0 0 0 1 1 1 0]\n",
      "\n",
      "Class true:\n",
      "[0 0 0 0 0 0 0 0 0 0 0 0 0 0 0 0 0 0 0 0 0 0 0 0 0 0 0 0 0 0 0 0 0 0 0 0 0\n",
      " 0 0 0 0 0 0 0 0 0 0 0 0 0 0 0 0 0 0 0 0 0 0 0 0 0 0 0 0 0 0 0 0 0 0 0 0 0\n",
      " 0 0 0 0 0 0 0 0 0 0 0 0 0 0 0 0 0 0 0 0 0 0 0 0 0 0 0 0 0 0 0 0 0 0 0 0 0\n",
      " 0 0 0 0 0 0 0 0 0 0 0 0 0 0 0 0 0 0 0 0 0 0 0 0 0 0 0 0 0 0 0 0 0 0 0 0 0\n",
      " 0 0 0 0 0 0 0 0 0 0 0 0 0 0 0 0 0 0 0 0 0 0 0 0 0 0 0 0 0 0 0 0 0 0 0 0 0\n",
      " 0 0 0 0 0 0 0 0 0 0 0 0 0 0 0 0 0 0 0 0 0 0 0 0 0 0 0 0 0 0 0 0 0 0 0 0 0\n",
      " 0 0 0 0 0 0 0 0 0 0 0 0 0 0 0 0 0 0 0 0 0 0 0 0 0 0 0 0 0 0 0 0 0 0 0 0 0\n",
      " 0 0 0 0 0 0 0 0 0 0 0 0 0 0 0 0 0 0 0 0 0 0 0 0 0 0 0 0 0 0 0 0 0 0 0 0 0\n",
      " 0 0 0 0 0 0 0 0 0 0 0 0 0 0 0 0 0 0 0 0 0 0 0 0 0 0 0 0 0 0 0 0 0 0 0 0 0\n",
      " 0 0 0 0 0 0 0 0 0 0 0 0 0 0 0 0 0 0 0 0 0 0 0 0 0 0 0 0 0 0 0 0 0 0 0 0 0\n",
      " 0 0 0 0 0 0 0 0 0 0 0 0 0 0 0 0 0 0 0 0 0 0 0 0 0 0 0 0 0 0 0 0 0 0 0 0 0\n",
      " 0 0 0 0 0 0 0 0 0 0 0 0 0 0 0 0 0 0 0 0 0 0 0 0 0 0 0 0 0 0 0 0 0 1 1 1 1\n",
      " 1 1 1 1 1 1 1 1 1 1 1 1 1 1 1 1 1 1 1 1 1 1 1 1 1 1 1 1 1 1 1 1 1 1 1 1 1\n",
      " 1 1 1 1 1 1 1 1 1 1 1 1 1 1 1 1 1 1 1 1 1 1 1 1 1 1 1 1 1 1 1 1 1 1 1 1 1\n",
      " 1 1 1 1 1 1 1 1 1 1 1 1 1 1 1 1 1 1 1 1 1 1 1 1 1 1 1 1 1 1 1 1 1 1 1 1 1\n",
      " 1 1 1 1 1 1 1 1 1 1 1 1 1 1 1 1 1 1 1 1 1 1 1 1 1 1 1 1 1 1 1 1 1 1 1 1 1\n",
      " 1 1 1 1 1 1 1 1 1 1 1 1 1 1 1 1 1 1 1 1 1 1 1 1 1 1 1 1 1 1 1 1 1 1 1 1 1\n",
      " 1 1 1 1 1 1 1 1 1 1 1 1 1 1 1 1 1 1 1 1 1 1 1 1 1 1 1 1 1 1 1 1 1 1 1 1 1\n",
      " 1 1 1 1 1 1 1 1 1 1 1 1 1 1 1 1 1 1 1 1 1 1 1 1 1 1 1 1 1 1 1 1 1 1 1 1 1\n",
      " 1 1 1 1 1 1 1 1 1 1 1 1 1 1 1 1 1 1 1 1 1 1 1 1 1 1 1 1 1 1 1 1 1 1 1 1 1\n",
      " 1 1 1 1 1 1 1 1 1 1 1 1 1 1 1 1 1 1 1 1 1 1 1 1 1 1 1 1 1 1 1 1 1 1 1 1 1\n",
      " 1 1 1 1 1 1 1 1 1 1 1 1 1 1 1 1 1 1 1 1 1 1 1 1 1 1 1 1 1 1 1 1 1 1 1 1 1\n",
      " 1 1 1 1 1 1 1 1 1 1 1 1 1 1 1 1 1 1 1 1 1 1 1 1 1 1 1 1 1 1 1 1 1 1 1 1 1\n",
      " 1 1 1 1 1 1 1 1 1 1 1 1 1 1 1 1 1 1 1 1 1 1 1 1 1 1 1 1 1]\n"
     ]
    }
   ],
   "source": [
    "print('Accuracy:')\n",
    "print(accuracy_score(predict, target))\n",
    "print()\n",
    "print('Confusion matrix:')\n",
    "cm = sns.heatmap(confusion_matrix(predict, target), cmap='Blues', annot=True, fmt='d')\n",
    "cm.set_xlabel('Predicted label')\n",
    "cm.set_ylabel('True label')\n",
    "plt.show()\n",
    "print('Classification report:')\n",
    "print(classification_report(predict, target))\n",
    "print('Class predict:')\n",
    "print(predict)\n",
    "print()\n",
    "print('Class true:')\n",
    "print(target)"
   ],
   "metadata": {
    "collapsed": false
   }
  },
  {
   "cell_type": "code",
   "execution_count": null,
   "outputs": [],
   "source": [
    "# Optimización de hiperparametros:"
   ],
   "metadata": {
    "collapsed": false
   }
  },
  {
   "cell_type": "code",
   "execution_count": 253,
   "outputs": [],
   "source": [
    "def build_model(hp):\n",
    "    model = Sequential()\n",
    "    model.add(Conv1D(filters=hp.Int('conv_1_filter', min_value=32, max_value=512, step=32),\n",
    "                     kernel_size=hp.Choice('conv_1_kernel', values=[1,2,3,4]),\n",
    "                     strides=hp.Choice('conv_1_stride', values=[1,2,3,4]),\n",
    "                     padding='same',\n",
    "                     input_shape=(13, 393), activation='relu'))\n",
    "    model.add(BatchNormalization())\n",
    "    model.add(MaxPooling1D(pool_size=hp.Choice('maxpool_1_size', values = [1,2]), padding='same'))\n",
    "\n",
    "    model.add(Conv1D(filters=hp.Int('conv_2_filter', min_value=32, max_value=512, step=32),\n",
    "                     kernel_size=hp.Choice('conv_2_kernel', values=[1,2,3,4]),\n",
    "                     strides=hp.Choice('conv_2_stride', values=[1,2,3,4]),\n",
    "                     padding='same', activation='relu'))\n",
    "    model.add(BatchNormalization())\n",
    "    model.add(MaxPooling1D(pool_size=hp.Choice('maxpool_2_size', values=[2,4]), padding='same'))\n",
    "\n",
    "    model.add(Conv1D(filters=hp.Int('conv_3_filter', min_value=32, max_value=128, step=32),\n",
    "                     kernel_size=hp.Choice('conv_3_kernel', values=[1,2,3,4]),\n",
    "                     strides=hp.Choice('conv_3_stride', values=[1,2,3,4]),\n",
    "                     padding='same', activation='relu'))\n",
    "    model.add(BatchNormalization())\n",
    "    model.add(MaxPooling1D(pool_size=hp.Choice('maxpool_3_size', values=[2,4,8]), padding='same'))\n",
    "\n",
    "    model.add(Flatten())\n",
    "    model.add(Dropout(0.3))\n",
    "\n",
    "    model.add(Dense(units=hp.Int('units_1', min_value=32, max_value=512, step=32), activation='relu'))\n",
    "    model.add(BatchNormalization())\n",
    "    model.add(Dense(units=hp.Int('units_2', min_value=32, max_value=512, step=32), activation='relu'))\n",
    "    model.add(BatchNormalization())\n",
    "    model.add(Dense(units=hp.Int('units_3', min_value=32, max_value=512, step=32), activation='relu'))\n",
    "    model.add(BatchNormalization())\n",
    "    model.add(Dense(units=hp.Int('units_4', min_value=32, max_value=512, step=32), activation='relu'))\n",
    "    model.add(BatchNormalization())\n",
    "    model.add(Dense(units=hp.Int('units_5', min_value=32, max_value=512, step=32), activation='relu'))\n",
    "    model.add(BatchNormalization())\n",
    "    model.add(Dense(2, activation='softmax'))\n",
    "    model.compile(optimizer=Adam(hp.Choice('learning_rate', values=[1e-2, 1e-3])), loss='categorical_crossentropy',\n",
    "                  metrics=[categorical_accuracy])\n",
    "    return model"
   ],
   "metadata": {
    "collapsed": false
   }
  },
  {
   "cell_type": "code",
   "execution_count": 254,
   "outputs": [],
   "source": [
    "tuner = kt.Hyperband(build_model,\n",
    "                     objective=Objective(\"val_loss\", direction=\"min\"),\n",
    "                     max_epochs=50,\n",
    "                     factor=2,\n",
    "                     directory='optimizer',\n",
    "                     project_name='second',\n",
    "                     hyperband_iterations=1,\n",
    "                     overwrite=True,\n",
    "                     seed=42)"
   ],
   "metadata": {
    "collapsed": false
   }
  },
  {
   "cell_type": "code",
   "execution_count": 255,
   "outputs": [],
   "source": [
    "stop_early = tf.keras.callbacks.EarlyStopping(monitor='val_loss', mode='min', patience=20)"
   ],
   "metadata": {
    "collapsed": false
   }
  },
  {
   "cell_type": "code",
   "execution_count": 257,
   "outputs": [
    {
     "name": "stdout",
     "output_type": "stream",
     "text": [
      "Trial 295 Complete [00h 01m 37s]\n",
      "val_loss: 0.8148061633110046\n",
      "\n",
      "Best val_loss So Far: 0.5848857164382935\n",
      "Total elapsed time: 02h 59m 47s\n",
      "INFO:tensorflow:Oracle triggered exit\n"
     ]
    }
   ],
   "source": [
    "tuner.search(train_data['mfcc'], transform_categorical_class(train_data['class'], 2),\n",
    "             epochs=50, validation_split=0.19, callbacks=[stop_early])"
   ],
   "metadata": {
    "collapsed": false
   }
  },
  {
   "cell_type": "code",
   "execution_count": 258,
   "outputs": [],
   "source": [
    "best_hps=tuner.get_best_hyperparameters(num_trials=1)[0]"
   ],
   "metadata": {
    "collapsed": false
   }
  },
  {
   "cell_type": "code",
   "execution_count": 259,
   "outputs": [
    {
     "name": "stdout",
     "output_type": "stream",
     "text": [
      "Numerous of filters of convolution of input: 32\n",
      "Numerous of kernel of convolution of input: 4\n",
      "Numerous of stride of convolution of input: 3\n",
      "Numerous of max pool of convolution of input: 1\n",
      "Numerous of filters of convolution of layer 1: 352\n",
      "Numerous of kernel of convolution of layer 1: 1\n",
      "Numerous of stride of convolution of layer 1: 4\n",
      "Numerous of max pool of convolution of layer 1: 2\n",
      "Numerous of filters of convolution of layer 2: 96\n",
      "Numerous of kernel of convolution of layer 2: 2\n",
      "Numerous of stride of convolution of layer 2: 3\n",
      "Numerous of max pool of convolution of layer 2: 8\n",
      "Numerous of unites of layer dense 1: 480\n",
      "Numerous of unites of layer dense 2: 480\n",
      "Numerous of unites of layer dense 3: 480\n",
      "Numerous of unites of layer dense 4: 480\n",
      "Numerous of unites of layer dense 5: 480\n",
      "Value of learning rate optime: 0.001\n"
     ]
    }
   ],
   "source": [
    "print(f\"Numerous of filters of convolution of input: {best_hps.get('conv_1_filter')}\")\n",
    "print(f\"Numerous of kernel of convolution of input: {best_hps.get('conv_1_kernel')}\")\n",
    "print(f\"Numerous of stride of convolution of input: {best_hps.get('conv_1_stride')}\")\n",
    "print(f\"Numerous of max pool of convolution of input: {best_hps.get('maxpool_1_size')}\")\n",
    "print(f\"Numerous of filters of convolution of layer 1: {best_hps.get('conv_2_filter')}\")\n",
    "print(f\"Numerous of kernel of convolution of layer 1: {best_hps.get('conv_2_kernel')}\")\n",
    "print(f\"Numerous of stride of convolution of layer 1: {best_hps.get('conv_2_stride')}\")\n",
    "print(f\"Numerous of max pool of convolution of layer 1: {best_hps.get('maxpool_2_size')}\")\n",
    "print(f\"Numerous of filters of convolution of layer 2: {best_hps.get('conv_3_filter')}\")\n",
    "print(f\"Numerous of kernel of convolution of layer 2: {best_hps.get('conv_3_kernel')}\")\n",
    "print(f\"Numerous of stride of convolution of layer 2: {best_hps.get('conv_3_stride')}\")\n",
    "print(f\"Numerous of max pool of convolution of layer 2: {best_hps.get('maxpool_3_size')}\")\n",
    "print(f\"Numerous of unites of layer dense 1: {best_hps.get('units_1')}\")\n",
    "print(f\"Numerous of unites of layer dense 2: {best_hps.get('units_2')}\")\n",
    "print(f\"Numerous of unites of layer dense 3: {best_hps.get('units_1')}\")\n",
    "print(f\"Numerous of unites of layer dense 4: {best_hps.get('units_2')}\")\n",
    "print(f\"Numerous of unites of layer dense 5: {best_hps.get('units_1')}\")\n",
    "print(f\"Value of learning rate optime: {best_hps.get('learning_rate')}\")"
   ],
   "metadata": {
    "collapsed": false
   }
  },
  {
   "cell_type": "code",
   "execution_count": null,
   "outputs": [],
   "source": [],
   "metadata": {
    "collapsed": false
   }
  }
 ],
 "metadata": {
  "kernelspec": {
   "display_name": "Python 3",
   "language": "python",
   "name": "python3"
  },
  "language_info": {
   "codemirror_mode": {
    "name": "ipython",
    "version": 2
   },
   "file_extension": ".py",
   "mimetype": "text/x-python",
   "name": "python",
   "nbconvert_exporter": "python",
   "pygments_lexer": "ipython2",
   "version": "2.7.6"
  }
 },
 "nbformat": 4,
 "nbformat_minor": 0
}
